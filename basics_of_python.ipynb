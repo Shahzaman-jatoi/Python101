{
 "cells": [
  {
   "cell_type": "code",
   "execution_count": 1,
   "metadata": {},
   "outputs": [
    {
     "name": "stdout",
     "output_type": "stream",
     "text": [
      "You entered: 1\n",
      "You entered: 3\n",
      "You entered: \n",
      "Exiting the loop...\n"
     ]
    }
   ],
   "source": [
    "while True:\n",
    "    user_input = input(\"Enter your input (type 'exit' to stop): \")\n",
    "    \n",
    "    if user_input.lower() == 'exit':\n",
    "        print(\"Exiting the loop...\")\n",
    "        break\n",
    "    \n",
    "    # Perform some operation with the user input\n",
    "    print(\"You entered:\", user_input)\n",
    "    \n",
    "    # Ask if the user wants to continue\n",
    "    while True:\n",
    "        choice = input(\"Do you want to continue? (yes/no): \")\n",
    "        if choice.lower() == 'yes':\n",
    "            break\n",
    "        elif choice.lower() == 'no':\n",
    "            print(\"Exiting the loop...\")\n",
    "            break  # Exiting the outer loop\n",
    "        else:\n",
    "            print(\"Invalid choice! Please enter 'yes' or 'no'.\")\n",
    "\n",
    "    if choice.lower() == 'no':\n",
    "        break  # Exiting the outer loop\n"
   ]
  },
  {
   "cell_type": "markdown",
   "metadata": {},
   "source": [
    "Write a Python program that asks the user to guess a randomly generated number between 1 and 100. After each guess, the program should inform the user whether their guess is too high, too low, or correct. The program should continue asking for guesses until the user correctly guesses the number. Additionally, the program should keep track of the number of guesses it takes the user to guess the correct number and print this number when the correct guess is made.\n",
    "\n",
    "Try to implement this program using a while loop. If you're unsure how to generate a random number in Python, you can use the random.randint() function from the random module.\n"
   ]
  },
  {
   "cell_type": "code",
   "execution_count": 19,
   "metadata": {},
   "outputs": [
    {
     "name": "stdout",
     "output_type": "stream",
     "text": [
      "The number is a little lower.\n",
      "The number is a little higher.\n",
      "You guessed the number right: 5\n"
     ]
    }
   ],
   "source": [
    "import random\n",
    "\n",
    "random_number = random.randint(1, 10)\n",
    "while True:\n",
    "    user_input = int(input(\"Enter a number to guess if it's right: \"))\n",
    "    if user_input == random_number:\n",
    "        print(f\"You guessed the number right: {user_input}\")\n",
    "        break\n",
    "    elif user_input > random_number:\n",
    "        print(\"The number is a little higher.\")\n",
    "    else:  # No need to check if user_input < random_number, it's the only option left\n",
    "        print(\"The number is a little lower.\")\n",
    "        \n",
    "    choice = input(\"Do you want to retry? (yes/no): \").lower()\n",
    "    if choice == \"no\":\n",
    "        break\n"
   ]
  },
  {
   "cell_type": "markdown",
   "metadata": {},
   "source": [
    "LISTS \n"
   ]
  },
  {
   "cell_type": "code",
   "execution_count": 45,
   "metadata": {},
   "outputs": [
    {
     "name": "stdout",
     "output_type": "stream",
     "text": [
      "['Shahzaman', 1, 3, 5, 7, 9, 90]\n",
      "[1, 3, 5, 7, 9, 90]\n",
      "115\n"
     ]
    },
    {
     "data": {
      "text/plain": [
       "1"
      ]
     },
     "execution_count": 45,
     "metadata": {},
     "output_type": "execute_result"
    }
   ],
   "source": [
    "from itertools import count\n",
    "\n",
    "my_list = [1, 3, 5, 7, 9]\n",
    "\n",
    "#my_list.append(5)\n",
    "my_list.extend([90, \"Shahzaman\"]) #added elements in a list\n",
    "my_list.pop(-1) #removes last element \n",
    "my_list.insert(0,\"Shahzaman\")\n",
    "print(my_list)\n",
    "my_list.pop(0)\n",
    "print(my_list)\n",
    "print(sum(my_list))\n"
   ]
  },
  {
   "cell_type": "markdown",
   "metadata": {},
   "source": [
    "1. Write a Python program that takes a list of numbers as input and returns a new list with only the even numbers.\n",
    "2. Write a Python program that removes the duplicate elements from a list."
   ]
  },
  {
   "cell_type": "code",
   "execution_count": 23,
   "metadata": {},
   "outputs": [
    {
     "name": "stdout",
     "output_type": "stream",
     "text": [
      "['4', '4', '6', '8', '4']\n"
     ]
    }
   ],
   "source": [
    "#Q1\n",
    "lst = list(input(\"Enter numbers to add in a list\"))\n",
    "lst1 = []\n",
    "for x in lst:\n",
    "    if int(x) % 2 == 0:\n",
    "        value = x.strip()\n",
    "        lst1.append(value)\n",
    "\n",
    "print(lst1)\n"
   ]
  },
  {
   "cell_type": "code",
   "execution_count": 90,
   "metadata": {},
   "outputs": [
    {
     "name": "stdout",
     "output_type": "stream",
     "text": [
      "Original list: [1, 2, 3, 4, 2, 3, 5]\n",
      "List after removing duplicates: [1, 2, 3, 4, 5]\n"
     ]
    }
   ],
   "source": [
    "def remove_duplicates(lst):\n",
    "    # Convert the list to a set to remove duplicates\n",
    "    unique_elements = set(lst)\n",
    "    # Convert the set back to a list\n",
    "    unique_list = list(unique_elements)\n",
    "    return unique_list\n",
    "\n",
    "# Example usage:\n",
    "my_list = [1, 2, 3, 4, 2, 3, 5]\n",
    "print(\"Original list:\", my_list)\n",
    "result = remove_duplicates(my_list)\n",
    "print(\"List after removing duplicates:\", result)\n"
   ]
  },
  {
   "cell_type": "markdown",
   "metadata": {},
   "source": [
    "Write a Python program that takes two sets as input and returns a new set with elements that are in both sets (intersection)."
   ]
  },
  {
   "cell_type": "code",
   "execution_count": 2,
   "metadata": {},
   "outputs": [
    {
     "name": "stdout",
     "output_type": "stream",
     "text": [
      "{'5', '1', '9', '6'}\n"
     ]
    }
   ],
   "source": [
    "set0 = set(input(\"Enter set A: \"))\n",
    "set1 = set(input(\"Enter set B: \"))\n",
    "\n",
    "new_set = set0.intersection(set1)\n",
    "print(new_set)"
   ]
  },
  {
   "cell_type": "markdown",
   "metadata": {},
   "source": [
    "Write a Python program that takes two sets as input and returns a new set with elements that are in one set but not in the other (difference)."
   ]
  },
  {
   "cell_type": "code",
   "execution_count": 14,
   "metadata": {},
   "outputs": [
    {
     "name": "stdout",
     "output_type": "stream",
     "text": [
      "{'1'}\n"
     ]
    }
   ],
   "source": [
    "set0 = set(input(\"Enter set A: \"))\n",
    "set1 = set(input(\"Enter set B: \"))\n",
    "\n",
    "new_set = set0.difference(set1)\n",
    "print(new_set)"
   ]
  },
  {
   "cell_type": "markdown",
   "metadata": {},
   "source": [
    "DICTIONARY QUESTION\n",
    "1. Write a Python program that takes a dictionary as input and returns the total count of all the values in the dictionary."
   ]
  },
  {
   "cell_type": "code",
   "execution_count": 12,
   "metadata": {},
   "outputs": [
    {
     "name": "stdout",
     "output_type": "stream",
     "text": [
      "4\n",
      "{'ooo': '1', 'pppp': '3', 'pti': '7', 'nlg': '0'}\n"
     ]
    }
   ],
   "source": [
    "# def dic_input():\n",
    "#     dictionary = {}\n",
    "#     while True:\n",
    "#         key = input(\"Enter a key to add in our dictionary: \")\n",
    "#         if not key:\n",
    "#             break\n",
    "#         value = input(\"Enter the value for your key: \".format(key))\n",
    "#         dictionary[key] = value\n",
    "    \n",
    "#     return dictionary\n",
    "\n",
    "# dictionary_function = dic_input()\n",
    "# print(len(dictionary_function.values()))\n",
    "# print(dictionary_function)\n"
   ]
  },
  {
   "cell_type": "markdown",
   "metadata": {},
   "source": [
    "DICTIONARY QUESTION\n",
    "2. Write a Python program that checks if a key exists in a dictionary and prints the value associated with it, if it exists."
   ]
  },
  {
   "cell_type": "code",
   "execution_count": 1,
   "metadata": {},
   "outputs": [
    {
     "name": "stdout",
     "output_type": "stream",
     "text": [
      "{'ii': '0', 'jj': '1'}\n",
      "value assosiated with 'jj' : 1\n",
      "None\n"
     ]
    }
   ],
   "source": [
    "#func to get input\n",
    "def dic_input():\n",
    "    dictionary = {}\n",
    "    while True:\n",
    "        key = input(\"Enter the key to get it added to our dictionary: \")\n",
    "        if not key:\n",
    "            break\n",
    "        value = input(\"Enter the value of the key for our dictionary: \".format(key))\n",
    "        dictionary[key] = value\n",
    "\n",
    "    return dictionary\n",
    "my_dictionary = dic_input()\n",
    "\n",
    "#func to check for value \n",
    "def check_value(var, my_dictionary):\n",
    "    if var in my_dictionary:\n",
    "        print(\"value assosiated with '{}' : {}\".format(var, my_dictionary[var]))\n",
    "    else:\n",
    "        print(\"Not found\")\n",
    "print(my_dictionary)\n",
    "key_to_check = input(\"enter your key: \")\n",
    "print(check_value(key_to_check, my_dictionary))"
   ]
  },
  {
   "cell_type": "markdown",
   "metadata": {},
   "source": [
    "TUPLES\n",
    "1. Write a Python program that takes a tuple as input and sorts the elements of the tuple. (Remember, tuples are immutable!)"
   ]
  },
  {
   "cell_type": "code",
   "execution_count": 1,
   "metadata": {},
   "outputs": [],
   "source": [
    "# def sort_tuple(tuple_input):\n",
    "#     sorted_list = sorted(tuple_input)\n",
    "#     sorted_tuple = tuple(sorted_list)\n",
    "\n",
    "#     return sorted_tuple\n",
    "\n",
    "# tuple_input = tuple(input('Enter your tuple'))\n",
    "# sort_tuple(tuple_input)\n"
   ]
  },
  {
   "cell_type": "markdown",
   "metadata": {},
   "source": [
    "Write a Python program that takes a tuple as input and swaps the first and last elements of the tuple. (You can create a new tuple!)"
   ]
  },
  {
   "cell_type": "code",
   "execution_count": 9,
   "metadata": {},
   "outputs": [
    {
     "name": "stdout",
     "output_type": "stream",
     "text": [
      "Original tuple: (1, 3, 5, 7, 9)\n",
      "Swapped tuple: (9, 3, 5, 7, 1)\n"
     ]
    }
   ],
   "source": [
    "def swap_elements(input_tuple):\n",
    "\n",
    "    if len(input_tuple) < 2:\n",
    "        return input_tuple\n",
    "    \n",
    "    swap_first = input_tuple[0]\n",
    "    swap_last = input_tuple[-1]\n",
    "\n",
    "    my_tuple = (swap_last,) + input_tuple[1:-1] + (swap_first,)\n",
    "\n",
    "    return my_tuple\n",
    "\n",
    "initial_tuple = (1,3,5,7,9)\n",
    "swapped_tuple = swap_elements(initial_tuple)\n",
    "\n",
    "print(f\"Original tuple: {initial_tuple}\")\n",
    "print(f\"Swapped tuple: {swapped_tuple}\")    "
   ]
  }
 ],
 "metadata": {
  "kernelspec": {
   "display_name": "Python 3",
   "language": "python",
   "name": "python3"
  },
  "language_info": {
   "codemirror_mode": {
    "name": "ipython",
    "version": 3
   },
   "file_extension": ".py",
   "mimetype": "text/x-python",
   "name": "python",
   "nbconvert_exporter": "python",
   "pygments_lexer": "ipython3",
   "version": "3.12.0"
  }
 },
 "nbformat": 4,
 "nbformat_minor": 2
}
